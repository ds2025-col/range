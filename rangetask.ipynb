{
  "nbformat": 4,
  "nbformat_minor": 0,
  "metadata": {
    "colab": {
      "provenance": [],
      "authorship_tag": "ABX9TyNsY5VAu1PGNFfKfe5yIhr2",
      "include_colab_link": true
    },
    "kernelspec": {
      "name": "python3",
      "display_name": "Python 3"
    },
    "language_info": {
      "name": "python"
    }
  },
  "cells": [
    {
      "cell_type": "markdown",
      "metadata": {
        "id": "view-in-github",
        "colab_type": "text"
      },
      "source": [
        "<a href=\"https://colab.research.google.com/github/ds2025-col/range/blob/main/rangetask.ipynb\" target=\"_parent\"><img src=\"https://colab.research.google.com/assets/colab-badge.svg\" alt=\"Open In Colab\"/></a>"
      ]
    },
    {
      "cell_type": "code",
      "execution_count": null,
      "metadata": {
        "id": "qjjEq4OOoIbi"
      },
      "outputs": [],
      "source": [
        "\n"
      ]
    },
    {
      "cell_type": "markdown",
      "source": [
        "equals:a==b\n",
        "\n",
        "not equals:a!=b\n",
        "\n",
        "lessthan:a<b\n",
        "\n",
        "greaterthan:a>b\n",
        "\n",
        "lessthan or equals:a<=b\n",
        "\n",
        "greaterthan or equals:a>=b\n"
      ],
      "metadata": {
        "id": "oYMe9oe2oRln"
      }
    },
    {
      "cell_type": "code",
      "source": [
        "for i in range(1,9): #start,stop,step (eg:(1,n+1,2))\n",
        " print(i)           #o/p will be 1 to n"
      ],
      "metadata": {
        "colab": {
          "base_uri": "https://localhost:8080/"
        },
        "id": "VKwgPlTxpxxk",
        "outputId": "f4cb78a9-cb08-4b5d-937d-fab3660eac60"
      },
      "execution_count": null,
      "outputs": [
        {
          "output_type": "stream",
          "name": "stdout",
          "text": [
            "1\n",
            "2\n",
            "3\n",
            "4\n",
            "5\n",
            "6\n",
            "7\n",
            "8\n"
          ]
        }
      ]
    },
    {
      "cell_type": "code",
      "source": [
        "for i in range(12):\n",
        "  print(i,end=',') #horizontal"
      ],
      "metadata": {
        "colab": {
          "base_uri": "https://localhost:8080/"
        },
        "id": "gHoIVci8q0nq",
        "outputId": "9eb101f7-386a-4b26-cd6b-ba361455ad16"
      },
      "execution_count": null,
      "outputs": [
        {
          "output_type": "stream",
          "name": "stdout",
          "text": [
            "0,1,2,3,4,5,6,7,8,9,10,11,"
          ]
        }
      ]
    },
    {
      "cell_type": "code",
      "source": [
        "for i in range(2,10):\n",
        "  print(i,end=',')"
      ],
      "metadata": {
        "colab": {
          "base_uri": "https://localhost:8080/"
        },
        "id": "jFUK4BVPrNYw",
        "outputId": "be2dd587-e437-4a32-b46e-96cbf3be5f0b"
      },
      "execution_count": null,
      "outputs": [
        {
          "output_type": "stream",
          "name": "stdout",
          "text": [
            "2,3,4,5,6,7,8,9,"
          ]
        }
      ]
    },
    {
      "cell_type": "code",
      "source": [
        "for i in range(2,10,2):\n",
        "  print(i)\n"
      ],
      "metadata": {
        "colab": {
          "base_uri": "https://localhost:8080/"
        },
        "id": "HtAu2qn-r6Yg",
        "outputId": "d9b9109a-5643-43d9-c9dd-4b2bff20a30a"
      },
      "execution_count": null,
      "outputs": [
        {
          "output_type": "stream",
          "name": "stdout",
          "text": [
            "2\n",
            "4\n",
            "6\n",
            "8\n"
          ]
        }
      ]
    },
    {
      "cell_type": "code",
      "source": [
        "a=list(range(6))\n",
        "print(a)"
      ],
      "metadata": {
        "colab": {
          "base_uri": "https://localhost:8080/"
        },
        "id": "KX96uMVusWNw",
        "outputId": "941cd304-c434-46a9-96e1-5f81ccc2f6ac"
      },
      "execution_count": null,
      "outputs": [
        {
          "output_type": "stream",
          "name": "stdout",
          "text": [
            "[0, 1, 2, 3, 4, 5]\n"
          ]
        }
      ]
    },
    {
      "cell_type": "code",
      "source": [
        "for i in range(10,-2,-1):\n",
        "  print(i)"
      ],
      "metadata": {
        "colab": {
          "base_uri": "https://localhost:8080/"
        },
        "id": "mz4X-wwBsxg_",
        "outputId": "ba29ea3f-e6fd-4212-ff86-a628438bb5de"
      },
      "execution_count": null,
      "outputs": [
        {
          "output_type": "stream",
          "name": "stdout",
          "text": [
            "10\n",
            "9\n",
            "8\n",
            "7\n",
            "6\n",
            "5\n",
            "4\n",
            "3\n",
            "2\n",
            "1\n",
            "0\n",
            "-1\n"
          ]
        }
      ]
    },
    {
      "cell_type": "markdown",
      "source": [
        "**INPUTS**"
      ],
      "metadata": {
        "id": "ThgFIrAatDew"
      }
    },
    {
      "cell_type": "code",
      "source": [
        "x=input('enter your name')\n",
        "print(x)\n",
        "y=int(input('enter your age'))\n",
        "z=float(input('enter your salary'))"
      ],
      "metadata": {
        "colab": {
          "base_uri": "https://localhost:8080/"
        },
        "id": "9iVoeLBNtMo2",
        "outputId": "bbb22938-1e0d-48c6-9bb0-d50a78c0c2c2"
      },
      "execution_count": null,
      "outputs": [
        {
          "name": "stdout",
          "output_type": "stream",
          "text": [
            "enter your nameas\n",
            "as\n",
            "enter your age3\n",
            "enter your salary100.2\n"
          ]
        }
      ]
    },
    {
      "cell_type": "code",
      "source": [
        "name=input('enter your name: ') #str type\n",
        "print('hello ' + name +  '!')"
      ],
      "metadata": {
        "colab": {
          "base_uri": "https://localhost:8080/"
        },
        "id": "L32_HirAwmT4",
        "outputId": "13951a12-819e-4936-d07c-5eeb9f79e92b"
      },
      "execution_count": null,
      "outputs": [
        {
          "output_type": "stream",
          "name": "stdout",
          "text": [
            "enter your name: ashida\n",
            "hello ashida!\n"
          ]
        }
      ]
    },
    {
      "cell_type": "code",
      "source": [
        "age=int(input('enter your age'))  #int type\n",
        "print('you are',age,'years old')"
      ],
      "metadata": {
        "colab": {
          "base_uri": "https://localhost:8080/"
        },
        "id": "LQuIFygcx5mD",
        "outputId": "e1c23f17-9d89-4f6a-c46b-2f17ea0d1a14"
      },
      "execution_count": null,
      "outputs": [
        {
          "output_type": "stream",
          "name": "stdout",
          "text": [
            "enter your age2\n",
            "you are 2 years old\n"
          ]
        }
      ]
    },
    {
      "cell_type": "code",
      "source": [
        "n=int(input('enter the number'))\n",
        "print('the even no.s are:')\n",
        "for i in range(2,n+1,2):\n",
        "  print(i,end=',')\n",
        "print('\\nthe odd numbers are:')\n",
        "for i in range(1,n+1,2):\n",
        "  print(i,end=',')\n",
        "print('\\n the no.s are:')\n",
        "for i in range(1,n+1,1):\n",
        "  print(i,end=',')"
      ],
      "metadata": {
        "colab": {
          "base_uri": "https://localhost:8080/"
        },
        "id": "tNdXe-4YxuYc",
        "outputId": "298d6e01-3bf0-4663-eebc-26aa8af6130f"
      },
      "execution_count": null,
      "outputs": [
        {
          "output_type": "stream",
          "name": "stdout",
          "text": [
            "enter the number10\n",
            "the even no.s are:\n",
            "2,4,6,8,10,\n",
            "the odd numbers are:\n",
            "1,3,5,7,9,\n",
            " the no.s are:\n",
            "1,2,3,4,5,6,7,8,9,10,"
          ]
        }
      ]
    },
    {
      "cell_type": "markdown",
      "source": [
        "**LOOPS**\n",
        "\n",
        "same part os code is exicuted again and again\n",
        "\n"
      ],
      "metadata": {
        "id": "WU5u55Ox65ZU"
      }
    },
    {
      "cell_type": "code",
      "source": [
        "x=range(1,10)\n",
        "for i in x:\n",
        "  odd=[]\n",
        "  even=[]\n",
        "  num=[]\n",
        "for i in x:\n",
        "  num.append(i)\n",
        "  if i%2==0:\n",
        "    even.append(i)\n",
        "  else :\n",
        "      odd.append(i)\n",
        "print(num)\n",
        "print(even)\n",
        "print(odd)"
      ],
      "metadata": {
        "colab": {
          "base_uri": "https://localhost:8080/"
        },
        "id": "ApLQyBr67SoN",
        "outputId": "f42ccf3d-de0d-440d-ed41-93476c1cb2dd"
      },
      "execution_count": null,
      "outputs": [
        {
          "output_type": "stream",
          "name": "stdout",
          "text": [
            "[1, 2, 3, 4, 5, 6, 7, 8, 9]\n",
            "[2, 4, 6, 8]\n",
            "[1, 3, 5, 7, 9]\n"
          ]
        }
      ]
    },
    {
      "cell_type": "code",
      "source": [
        "for i in range(1,6):\n",
        "  for j in range(1,i+1):\n",
        "    print(j,end=\" \")\n",
        "  print('\\n')"
      ],
      "metadata": {
        "colab": {
          "base_uri": "https://localhost:8080/"
        },
        "id": "4kWLLCZzCVHe",
        "outputId": "77be5f8f-25cf-4c1f-b1ee-3735b973611b"
      },
      "execution_count": null,
      "outputs": [
        {
          "output_type": "stream",
          "name": "stdout",
          "text": [
            "1 \n",
            "\n",
            "1 2 \n",
            "\n",
            "1 2 3 \n",
            "\n",
            "1 2 3 4 \n",
            "\n",
            "1 2 3 4 5 \n",
            "\n"
          ]
        }
      ]
    },
    {
      "cell_type": "code",
      "source": [
        "for i in range(1,6):\n",
        "  for j in range(i,0,-1):\n",
        "    print(j,end=' ')\n",
        "  print('\\n')"
      ],
      "metadata": {
        "colab": {
          "base_uri": "https://localhost:8080/"
        },
        "id": "pPzRvHONDfLS",
        "outputId": "ae36c538-f5a7-4c54-9cba-6f8993809cce"
      },
      "execution_count": null,
      "outputs": [
        {
          "output_type": "stream",
          "name": "stdout",
          "text": [
            "1 \n",
            "\n",
            "2 1 \n",
            "\n",
            "3 2 1 \n",
            "\n",
            "4 3 2 1 \n",
            "\n",
            "5 4 3 2 1 \n",
            "\n"
          ]
        }
      ]
    },
    {
      "cell_type": "code",
      "source": [
        "#print('\\n')  used for printing new line."
      ],
      "metadata": {
        "id": "A-wdY4YIIZ4j"
      },
      "execution_count": null,
      "outputs": []
    },
    {
      "cell_type": "code",
      "source": [
        "for i in range(1,5):\n",
        "  for j in range(1,i+1):\n",
        "    print(1,end=' ')\n",
        "  print('')"
      ],
      "metadata": {
        "colab": {
          "base_uri": "https://localhost:8080/"
        },
        "id": "KKsI6Mm-Kbfd",
        "outputId": "c0529a17-bf68-4951-c0a7-ee6392ec3639"
      },
      "execution_count": null,
      "outputs": [
        {
          "output_type": "stream",
          "name": "stdout",
          "text": [
            "1 \n",
            "1 1 \n",
            "1 1 1 \n",
            "1 1 1 1 \n"
          ]
        }
      ]
    }
  ]
}